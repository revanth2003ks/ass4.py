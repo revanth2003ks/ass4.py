{
 "cells": [
  {
   "cell_type": "code",
   "execution_count": 1,
   "id": "cd512931",
   "metadata": {},
   "outputs": [],
   "source": [
    "# def is the the keyword used to create a function"
   ]
  },
  {
   "cell_type": "code",
   "execution_count": 4,
   "id": "3f46b2fd",
   "metadata": {},
   "outputs": [],
   "source": [
    "def test1():\n",
    "    n=[]\n",
    "    for i in range(1,25):\n",
    "        if i%2!=0:\n",
    "            n.append(i)\n",
    "    return n"
   ]
  },
  {
   "cell_type": "code",
   "execution_count": 5,
   "id": "1d726bde",
   "metadata": {},
   "outputs": [
    {
     "data": {
      "text/plain": [
       "[1, 3, 5, 7, 9, 11, 13, 15, 17, 19, 21, 23]"
      ]
     },
     "execution_count": 5,
     "metadata": {},
     "output_type": "execute_result"
    }
   ],
   "source": [
    "test1()"
   ]
  },
  {
   "cell_type": "code",
   "execution_count": 8,
   "id": "1f4d8802",
   "metadata": {},
   "outputs": [],
   "source": [
    "# *args is used to take  n number input in the function"
   ]
  },
  {
   "cell_type": "code",
   "execution_count": 23,
   "id": "fe154b44",
   "metadata": {},
   "outputs": [],
   "source": [
    "def test2(*args):\n",
    "    n=[]\n",
    "    for i in args:\n",
    "        if type(i)==list or type(i)==tuple:\n",
    "            n.append(i)\n",
    "    return n"
   ]
  },
  {
   "cell_type": "code",
   "execution_count": 25,
   "id": "9bb52a85",
   "metadata": {},
   "outputs": [
    {
     "data": {
      "text/plain": [
       "[[1, 2, 3], (2, 3, 4, 5)]"
      ]
     },
     "execution_count": 25,
     "metadata": {},
     "output_type": "execute_result"
    }
   ],
   "source": [
    "test2([1,2,3],(2,3,4,5),{12,3,45,},'pwskills',1,2,3,'q','s','f')"
   ]
  },
  {
   "cell_type": "code",
   "execution_count": 26,
   "id": "99ab3465",
   "metadata": {},
   "outputs": [],
   "source": [
    "#  **kwargs is used to take n number of inputs in key:vlaue format   "
   ]
  },
  {
   "cell_type": "code",
   "execution_count": 5,
   "id": "a2686bbc",
   "metadata": {},
   "outputs": [],
   "source": [
    "def test2(**kwargs):\n",
    "    n=[]\n",
    "    for i in kwargs.keys():\n",
    "            if type(kwargs[i])==str:\n",
    "                n.append(kwargs[i])\n",
    "    return n"
   ]
  },
  {
   "cell_type": "code",
   "execution_count": 6,
   "id": "b0a7ff69",
   "metadata": {},
   "outputs": [
    {
     "data": {
      "text/plain": [
       "['revanth', 'pwskills', 'data science']"
      ]
     },
     "execution_count": 6,
     "metadata": {},
     "output_type": "execute_result"
    }
   ],
   "source": [
    "test2(a='revanth',b=(1,2,3,4),c=\"pwskills\",d={23,4,5,6},e='data science')"
   ]
  },
  {
   "cell_type": "code",
   "execution_count": null,
   "id": "a00a6fd1",
   "metadata": {},
   "outputs": [],
   "source": []
  }
 ],
 "metadata": {
  "kernelspec": {
   "display_name": "Python 3 (ipykernel)",
   "language": "python",
   "name": "python3"
  },
  "language_info": {
   "codemirror_mode": {
    "name": "ipython",
    "version": 3
   },
   "file_extension": ".py",
   "mimetype": "text/x-python",
   "name": "python",
   "nbconvert_exporter": "python",
   "pygments_lexer": "ipython3",
   "version": "3.9.13"
  }
 },
 "nbformat": 4,
 "nbformat_minor": 5
}
